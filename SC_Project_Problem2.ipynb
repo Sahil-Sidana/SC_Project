{
  "nbformat": 4,
  "nbformat_minor": 0,
  "metadata": {
    "colab": {
      "provenance": [],
      "gpuType": "T4",
      "include_colab_link": true
    },
    "kernelspec": {
      "name": "python3",
      "display_name": "Python 3"
    },
    "language_info": {
      "name": "python"
    },
    "accelerator": "GPU"
  },
  "cells": [
    {
      "cell_type": "markdown",
      "metadata": {
        "id": "view-in-github",
        "colab_type": "text"
      },
      "source": [
        "<a href=\"https://colab.research.google.com/github/Sahil-Sidana/SC_Project/blob/main/SC_Project_Problem2.ipynb\" target=\"_parent\"><img src=\"https://colab.research.google.com/assets/colab-badge.svg\" alt=\"Open In Colab\"/></a>"
      ]
    },
    {
      "cell_type": "code",
      "source": [
        "# Question 2\n",
        "'''Solve the travelling salesman problem using GA. The number of cities is 15. The weight matrix will be given as input, and it represents the distance of each city. After 20\n",
        "iterations you will stop the algorithm. The number of chromosomes is 15. Output is the sequence of cities to travel by the salesman (best solution given by GA).\n",
        "You may consider elitism principle and roulette-wheel based selection procedure. You can go for one point crossover and crossover points will randomly selected. Take extra\n",
        "care so that each city will represent once in the solution.'''"
      ],
      "metadata": {
        "id": "5VmuyUt8YsKD",
        "colab": {
          "base_uri": "https://localhost:8080/",
          "height": 88
        },
        "outputId": "71c0411d-ac66-454f-bfd9-f8544b84fed4"
      },
      "execution_count": null,
      "outputs": [
        {
          "output_type": "execute_result",
          "data": {
            "text/plain": [
              "'Solve the travelling salesman problem using GA. The number of cities is 15. The weight matrix will be given as input, and it represents the distance of each city. After 20\\niterations you will stop the algorithm. The number of chromosomes is 15. Output is the sequence of cities to travel by the salesman (best solution given by GA).\\nYou may consider elitism principle and roulette-wheel based selection procedure. You can go for one point crossover and crossover points will randomly selected. Take extra\\ncare so that each city will represent once in the solution.'"
            ],
            "application/vnd.google.colaboratory.intrinsic+json": {
              "type": "string"
            }
          },
          "metadata": {},
          "execution_count": 1
        }
      ]
    },
    {
      "cell_type": "code",
      "source": [
        "import numpy as np"
      ],
      "metadata": {
        "id": "HQ84lxAqYtV-"
      },
      "execution_count": null,
      "outputs": []
    },
    {
      "cell_type": "code",
      "source": [
        "def total_weight(temporary_solution, weight_matrix):\n",
        "    weight = 0\n",
        "    for i in range(len(temporary_solution) - 1):\n",
        "        weight+=weight_matrix[temporary_solution[i]][temporary_solution[i + 1]]\n",
        "    weight += weight_matrix[temporary_solution[-1]][temporary_solution[0]]  # Return to the starting city\n",
        "    return weight"
      ],
      "metadata": {
        "id": "acRvK4pKnMx0"
      },
      "execution_count": null,
      "outputs": []
    },
    {
      "cell_type": "code",
      "source": [
        "def roulette_wheel(population, Objective_f_value):\n",
        "    probablity = Objective_f_value/sum(Objective_f_value)\n",
        "    index = np.random.choice(len(population), size=len(population), p=probablity)\n",
        "    return [population[i] for i in index]"
      ],
      "metadata": {
        "id": "B2gDATWYnczD"
      },
      "execution_count": null,
      "outputs": []
    },
    {
      "cell_type": "code",
      "source": [
        "def crossover(parent1, parent2):\n",
        "    point_of_crossover = np.random.randint(1, len(parent2))\n",
        "    # Taking extra care so that each city will represent once in the solution, here i represents the city.\n",
        "    offspring1 = np.concatenate((parent1[:point_of_crossover], [i for i in parent2 if i not in parent1[:point_of_crossover]]))\n",
        "    offspring2 = np.concatenate((parent2[:point_of_crossover], [i for i in parent1 if i not in parent2[:point_of_crossover]]))\n",
        "    return offspring1,offspring2"
      ],
      "metadata": {
        "id": "sXaHezF6nc2o"
      },
      "execution_count": null,
      "outputs": []
    },
    {
      "cell_type": "code",
      "source": [
        "def initialize_population(chromosomes,cities):\n",
        "    initial_population = []\n",
        "    # Making 15 initial solution set with random permutation of cities\n",
        "    for i in range(chromosomes):\n",
        "        temporary = np.random.permutation(cities)\n",
        "        initial_population.append(temporary)\n",
        "    return initial_population"
      ],
      "metadata": {
        "id": "HN4rNUNfncwI"
      },
      "execution_count": null,
      "outputs": []
    },
    {
      "cell_type": "code",
      "source": [
        "def genetic_algorithm(cities,weight_matrix,iterations,chromosomes):\n",
        "\n",
        "    initial_population = initialize_population(chromosomes, cities)\n",
        "\n",
        "    # Now Running the Algorithm 20 times.\n",
        "    for iteration in range(iterations):\n",
        "\n",
        "        Objective_f_value = []\n",
        "\n",
        "        for solution in initial_population:\n",
        "          Objective_f_value.append(1 / (1+ total_weight(solution, weight_matrix)))\n",
        "\n",
        "        # Elitism: Select the best chromosome\n",
        "        best_tour_index = np.argmax(Objective_f_value)\n",
        "        next_population = [initial_population[best_tour_index]]\n",
        "\n",
        "        # Roulette-wheel selection and crossover\n",
        "        population_order = roulette_wheel(initial_population, Objective_f_value)\n",
        "        # CrossOver Parents based on Roulette wheel selection\n",
        "        for i in range(0,len(population_order)-1,2):\n",
        "            # Making crossover b/w parents in the order which Roulette wheel selection has created.\n",
        "            parent1, parent2 = population_order[i], population_order[i + 1]\n",
        "            offspring1, offspring2 = crossover(parent1,parent2)\n",
        "            next_population.extend([offspring1, offspring2])\n",
        "\n",
        "        population = next_population\n",
        "\n",
        "    #After all iterations select the best solution, i represents city\n",
        "    every_weight=[]\n",
        "    for i in population:\n",
        "      every_weight.append(total_weight(i, weight_matrix))\n",
        "\n",
        "    best_solution_index = np.argmin(every_weight)\n",
        "    final_solution = population[best_solution_index]\n",
        "\n",
        "    return final_solution"
      ],
      "metadata": {
        "id": "y6Y4wsqync5o"
      },
      "execution_count": null,
      "outputs": []
    },
    {
      "cell_type": "code",
      "source": [
        "#Given:\n",
        "cities = 15\n",
        "iterations = 20\n",
        "chromosomes = 15\n",
        "\n",
        "# Generate a random weight matrix for demonstration purposes The weight matrix will be given as input, and it represents the distance of each city.\n",
        "weight_matrix = np.random.randint(1, 500, size=(cities, cities))\n",
        "\n",
        "\n",
        "# Making distance to reach city i from i as 0.\n",
        "for i in range(cities):\n",
        "  weight_matrix[i][i]=0\n",
        "\n",
        "print()\n",
        "print(\"         Distance Matrix between Cities        \")\n",
        "print()\n",
        "print(weight_matrix)\n",
        "\n",
        "\n",
        "solution = genetic_algorithm(cities,weight_matrix,iterations,chromosomes)\n",
        "\n",
        "# Making cities as 1-based indexing to print.\n",
        "solution = solution+1\n",
        "\n",
        "# Printing Optimal Solution\n",
        "print()\n",
        "print(\"Optimal Solution:\")\n",
        "print()\n",
        "for i in range(cities-1):\n",
        "  print(f\"Move from city {solution[i]} --> city {solution[i+1]} with cost {weight_matrix[solution[i]-1][solution[i+1]-1]}\")\n",
        "print(f\"Move from city {solution[cities-1]} --> city {solution[0]} with cost {weight_matrix[solution[cities-1]-1][solution[0]-1]}\")\n",
        "\n",
        "# Making cities as 0-based indexing to calculate distance from the matrix.\n",
        "solution = solution-1\n",
        "print()\n",
        "print(\"Total distance:\", total_weight(solution, weight_matrix))"
      ],
      "metadata": {
        "colab": {
          "base_uri": "https://localhost:8080/"
        },
        "id": "v2t8MF83nnUM",
        "outputId": "b5eea3f0-0bb2-4ba7-f57d-ed4f4140f3d4"
      },
      "execution_count": null,
      "outputs": [
        {
          "output_type": "stream",
          "name": "stdout",
          "text": [
            "\n",
            "         Distance Matrix between Cities        \n",
            "\n",
            "[[  0 293 270  22 331 368 471 181  33  77 365 357  67 187 254]\n",
            " [414   0 391 194 371 288 275  73 319 344 352 461 464 206 349]\n",
            " [329  35   0 188 383 460  64 475 398 183 482  60  65 359  91]\n",
            " [449 316 110   0 126 454 361 406 335 400 251 187  98 462  65]\n",
            " [447 407 206 394   0 325 201 263 198 339 492 476 319 165 326]\n",
            " [292 272 146 255  84   0 125 145  97 285 296 300 449 196 488]\n",
            " [453 312 368 264  59 309   0 196 400 174 146 378 247 399 243]\n",
            " [385 433  82 370 208   7  48   0   3  50 347  67 470  32 440]\n",
            " [292  56 188 286  23 440 288 218   0 334 243 496  48 164 459]\n",
            " [116 461  30  68  77  69 217   8 124   0 253 459 429   4 489]\n",
            " [462 198 169 161  62 252 172 178 452  97   0 427 427 285 193]\n",
            " [ 27 437 286 275 474  63 437 194 443 350 202   0 298 131  84]\n",
            " [246 384 222 348 460 373 339  39 332 155 371 143   0  92 357]\n",
            " [450 130 185 369  62   1 332 212 369 392 140 257  82   0 335]\n",
            " [481 421 407 230 149  19 169 456 344 475  80 393  80  79   0]]\n",
            "\n",
            "Optimal Solution:\n",
            "\n",
            "Move from city 15 --> city 13 with cost 80\n",
            "Move from city 13 --> city 3 with cost 222\n",
            "Move from city 3 --> city 12 with cost 60\n",
            "Move from city 12 --> city 1 with cost 27\n",
            "Move from city 1 --> city 7 with cost 471\n",
            "Move from city 7 --> city 2 with cost 312\n",
            "Move from city 2 --> city 4 with cost 194\n",
            "Move from city 4 --> city 11 with cost 251\n",
            "Move from city 11 --> city 8 with cost 178\n",
            "Move from city 8 --> city 10 with cost 50\n",
            "Move from city 10 --> city 5 with cost 77\n",
            "Move from city 5 --> city 6 with cost 325\n",
            "Move from city 6 --> city 9 with cost 97\n",
            "Move from city 9 --> city 14 with cost 164\n",
            "Move from city 14 --> city 15 with cost 335\n",
            "\n",
            "Total distance: 2843\n"
          ]
        }
      ]
    }
  ]
}